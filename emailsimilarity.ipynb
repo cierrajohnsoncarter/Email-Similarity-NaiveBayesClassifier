{
  "nbformat": 4,
  "nbformat_minor": 0,
  "metadata": {
    "colab": {
      "name": "emailsimilarity.ipynb",
      "provenance": [],
      "collapsed_sections": [],
      "authorship_tag": "ABX9TyNp6Xitg+tD3RsYrAq6Rt6+"
    },
    "kernelspec": {
      "name": "python3",
      "display_name": "Python 3"
    }
  },
  "cells": [
    {
      "cell_type": "markdown",
      "metadata": {
        "id": "TuVkIDQhZ6G0",
        "colab_type": "text"
      },
      "source": [
        "Import the libraries"
      ]
    },
    {
      "cell_type": "code",
      "metadata": {
        "id": "39n4Su9UZ0sI",
        "colab_type": "code",
        "colab": {}
      },
      "source": [
        "from sklearn.datasets import fetch_20newsgroups\n",
        "from sklearn.naive_bayes import MultinomialNB\n",
        "from sklearn.feature_extraction.text import CountVectorizer"
      ],
      "execution_count": 0,
      "outputs": []
    },
    {
      "cell_type": "markdown",
      "metadata": {
        "id": "RvTrdkgWaupq",
        "colab_type": "text"
      },
      "source": [
        "Create the dataframe and set the categories equal to the category of articles we are interested in"
      ]
    },
    {
      "cell_type": "code",
      "metadata": {
        "id": "mSLdgr_paGej",
        "colab_type": "code",
        "colab": {}
      },
      "source": [
        "emails = fetch_20newsgroups(categories = ['sci.crypt', 'sci.electronics', 'sci.med'])"
      ],
      "execution_count": 0,
      "outputs": []
    },
    {
      "cell_type": "markdown",
      "metadata": {
        "id": "EZ4sd8XiaMYf",
        "colab_type": "text"
      },
      "source": [
        "Take a look at the target names of the email categories we selected\n"
      ]
    },
    {
      "cell_type": "code",
      "metadata": {
        "id": "-5YL_dR4aQye",
        "colab_type": "code",
        "colab": {
          "base_uri": "https://localhost:8080/",
          "height": 35
        },
        "outputId": "6413266e-13d1-4b9a-efbc-f9e23ce4c0c8"
      },
      "source": [
        "print(emails.target_names)"
      ],
      "execution_count": 8,
      "outputs": [
        {
          "output_type": "stream",
          "text": [
            "['sci.crypt', 'sci.electronics', 'sci.med']\n"
          ],
          "name": "stdout"
        }
      ]
    },
    {
      "cell_type": "markdown",
      "metadata": {
        "id": "TF47S-kva6Ka",
        "colab_type": "text"
      },
      "source": [
        "Take a look at one of the emails"
      ]
    },
    {
      "cell_type": "code",
      "metadata": {
        "id": "0DtbdYPqa8Gz",
        "colab_type": "code",
        "colab": {
          "base_uri": "https://localhost:8080/",
          "height": 269
        },
        "outputId": "76d0c963-da92-4272-bae3-2b81e47e136d"
      },
      "source": [
        "print(emails.data[5])"
      ],
      "execution_count": 9,
      "outputs": [
        {
          "output_type": "stream",
          "text": [
            "From: Joseph N Hosteny <jh8e+@andrew.cmu.edu>\n",
            "Subject: Re: Electric power line \"balls\"\n",
            "Organization: Freshman, Electrical and Computer Engineering, Carnegie Mellon, Pittsburgh, PA\n",
            "Lines: 5\n",
            "Distribution: usa\n",
            "NNTP-Posting-Host: andrew.cmu.edu\n",
            "In-Reply-To: <1993Apr6.203237.20841@eagle.lerc.nasa.gov>\n",
            "\n",
            "\n",
            "    Do you know if there is an airport nearby? They may just be markers\n",
            "to tell pilots of small planes that there are power lines nearby.\n",
            "\n",
            "/Joe\n",
            "\n"
          ],
          "name": "stdout"
        }
      ]
    },
    {
      "cell_type": "markdown",
      "metadata": {
        "id": "M3-KWMJ-b3tb",
        "colab_type": "text"
      },
      "source": [
        "Print the label of the email at index 5"
      ]
    },
    {
      "cell_type": "code",
      "metadata": {
        "id": "egSk5OY7b6K7",
        "colab_type": "code",
        "colab": {
          "base_uri": "https://localhost:8080/",
          "height": 35
        },
        "outputId": "1537f25a-3a7d-482f-f4d3-daaf7b370a40"
      },
      "source": [
        "print(emails.target[5]) # Since each label correspondes to the index of the categories we in the 'categories' list, this email classifies as an 'sci.electronics' email"
      ],
      "execution_count": 11,
      "outputs": [
        {
          "output_type": "stream",
          "text": [
            "1\n"
          ],
          "name": "stdout"
        }
      ]
    },
    {
      "cell_type": "markdown",
      "metadata": {
        "id": "qN7c7U3IcN8n",
        "colab_type": "text"
      },
      "source": [
        "Split the data into training and test sets"
      ]
    },
    {
      "cell_type": "code",
      "metadata": {
        "id": "Y8mg8HD_cSeg",
        "colab_type": "code",
        "colab": {}
      },
      "source": [
        "train_emails = fetch_20newsgroups(categories = ['sci.crypt', 'sci.electronics', 'sci.med'], subset='train', shuffle=True, random_state=108)\n",
        "\n",
        "test_emails = fetch_20newsgroups(categories = ['sci.crypt', 'sci.electronics', 'sci.med'], subset='test', shuffle=True, random_state=108)"
      ],
      "execution_count": 0,
      "outputs": []
    },
    {
      "cell_type": "markdown",
      "metadata": {
        "id": "_qvV0vbdcW2G",
        "colab_type": "text"
      },
      "source": [
        "Create a CountVectorizer() obejct to transform the emails into a list of word counts"
      ]
    },
    {
      "cell_type": "code",
      "metadata": {
        "id": "NmpyUcxdcbfy",
        "colab_type": "code",
        "colab": {}
      },
      "source": [
        "counter = CountVectorizer()"
      ],
      "execution_count": 0,
      "outputs": []
    },
    {
      "cell_type": "markdown",
      "metadata": {
        "id": "CpumOtiIce53",
        "colab_type": "text"
      },
      "source": [
        "Tell counter what possible words can exist in our emails using the data in test_emails and train_emails"
      ]
    },
    {
      "cell_type": "code",
      "metadata": {
        "id": "tXdg2XF2ch2E",
        "colab_type": "code",
        "colab": {
          "base_uri": "https://localhost:8080/",
          "height": 125
        },
        "outputId": "a506b2bd-5df9-49cf-c8dd-ecd151025417"
      },
      "source": [
        "counter.fit(test_emails.data + train_emails.data)"
      ],
      "execution_count": 14,
      "outputs": [
        {
          "output_type": "execute_result",
          "data": {
            "text/plain": [
              "CountVectorizer(analyzer='word', binary=False, decode_error='strict',\n",
              "                dtype=<class 'numpy.int64'>, encoding='utf-8', input='content',\n",
              "                lowercase=True, max_df=1.0, max_features=None, min_df=1,\n",
              "                ngram_range=(1, 1), preprocessor=None, stop_words=None,\n",
              "                strip_accents=None, token_pattern='(?u)\\\\b\\\\w\\\\w+\\\\b',\n",
              "                tokenizer=None, vocabulary=None)"
            ]
          },
          "metadata": {
            "tags": []
          },
          "execution_count": 14
        }
      ]
    },
    {
      "cell_type": "markdown",
      "metadata": {
        "id": "EzcE1oZDcqmp",
        "colab_type": "text"
      },
      "source": [
        "Make a list of the counts of our words in our training set"
      ]
    },
    {
      "cell_type": "code",
      "metadata": {
        "id": "-2HJqqSPct7v",
        "colab_type": "code",
        "colab": {}
      },
      "source": [
        "train_counts = counter.transform(train_emails.data)\n",
        "test_counts = counter.transform(test_emails.data)"
      ],
      "execution_count": 0,
      "outputs": []
    },
    {
      "cell_type": "markdown",
      "metadata": {
        "id": "N4N79TO4cxwc",
        "colab_type": "text"
      },
      "source": [
        "Make a Naive Bayes Classifier"
      ]
    },
    {
      "cell_type": "code",
      "metadata": {
        "id": "nv1H-LeRc8Ox",
        "colab_type": "code",
        "colab": {
          "base_uri": "https://localhost:8080/",
          "height": 35
        },
        "outputId": "2979be51-58f3-46b0-a804-52e017dde7bf"
      },
      "source": [
        "classifier = MultinomialNB()\n",
        "classifier.fit(train_counts, train_emails.target)"
      ],
      "execution_count": 17,
      "outputs": [
        {
          "output_type": "execute_result",
          "data": {
            "text/plain": [
              "MultinomialNB(alpha=1.0, class_prior=None, fit_prior=True)"
            ]
          },
          "metadata": {
            "tags": []
          },
          "execution_count": 17
        }
      ]
    },
    {
      "cell_type": "markdown",
      "metadata": {
        "id": "qeMmqsZac_PV",
        "colab_type": "text"
      },
      "source": [
        "Test the Naive Bayes Classifier"
      ]
    },
    {
      "cell_type": "code",
      "metadata": {
        "id": "ZIJ_nS1PdFC6",
        "colab_type": "code",
        "colab": {
          "base_uri": "https://localhost:8080/",
          "height": 35
        },
        "outputId": "433a3c15-9313-4a27-f5b3-8c1d0dc1d49b"
      },
      "source": [
        "print(classifier.score(test_counts, test_emails.target))"
      ],
      "execution_count": 18,
      "outputs": [
        {
          "output_type": "stream",
          "text": [
            "0.9392405063291139\n"
          ],
          "name": "stdout"
        }
      ]
    }
  ]
}